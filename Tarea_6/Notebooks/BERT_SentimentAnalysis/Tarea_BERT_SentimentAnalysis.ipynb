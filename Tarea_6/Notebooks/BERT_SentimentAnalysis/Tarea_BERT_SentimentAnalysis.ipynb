{
 "cells": [
  {
   "cell_type": "markdown",
   "metadata": {},
   "source": [
    "# 🔴 Tarea:"
   ]
  },
  {
   "cell_type": "markdown",
   "metadata": {},
   "source": [
    "## Usando otro modelo tipo BERT (DeBERTa, ALBERT, ELECTRA, etc), realiza la tarea de clasificación en el dataset de reviews de turismo en español."
   ]
  },
  {
   "cell_type": "markdown",
   "metadata": {},
   "source": [
    "## Aquí hay dos desafios que explorar:\n",
    "\n",
    "### 1. ¿Los modelos anteriores se pueden usar en español?"
   ]
  },
  {
   "cell_type": "markdown",
   "metadata": {},
   "source": [
    "Para esta tarea, realiza una división *train/test* similar a la hecha en la práctica anterior con este dataset.\n",
    "\n",
    "Para realizar el entrenamiento puedes usar la estrategia (1.A) o la clase `Trainer`."
   ]
  },
  {
   "cell_type": "markdown",
   "metadata": {},
   "source": [
    "**1. Preparación de los datos**"
   ]
  },
  {
   "cell_type": "code",
   "execution_count": 2,
   "metadata": {},
   "outputs": [
    {
     "name": "stdout",
     "output_type": "stream",
     "text": [
      "Datos de entrenamiento: 3751\n",
      "Datos de validación: 663\n",
      "Datos de prueba: 780\n",
      "\n",
      "Pesos de las clases: tensor([2.8503, 0.6064], device='cuda:0')\n"
     ]
    }
   ],
   "source": [
    "# Importar librerías \n",
    "import pandas as pd\n",
    "from sklearn.model_selection import train_test_split\n",
    "from sklearn.utils.class_weight import compute_class_weight\n",
    "import numpy as np\n",
    "import torch\n",
    "\n",
    "# Cargar datos de entrenamiento (train.csv)\n",
    "train_df = pd.read_csv('Datos/train.csv')\n",
    "\n",
    "# Preprocesar datos de entrenamiento\n",
    "train_df['Text'] = train_df['Title'].astype(str) + \" \" + train_df['Opinion'].astype(str)  # Juntar opiniones y títulos\n",
    "train_df = train_df.dropna()  # Eliminar filas con valores nulos\n",
    "\n",
    "# Dividir datos de entrenamiento en conjunto de entrenamiento y validación (con estratificación)\n",
    "X_train, X_val, y_train, y_val = train_test_split(\n",
    "    train_df['Text'],\n",
    "    train_df['Label'],\n",
    "    test_size=0.15,  # 15% para validación\n",
    "    random_state=42,\n",
    "    stratify=train_df['Label']  # Estratificación para balancear las clases\n",
    ")\n",
    "\n",
    "# Calcular los pesos de las clases\n",
    "class_weights = compute_class_weight(\n",
    "    class_weight=\"balanced\",  # Pesos inversamente proporcionales a la frecuencia de las clases\n",
    "    classes=np.array([0, 1]), # Convertir a un arreglo de NumPy\n",
    "    y=y_train.values          # Etiquetas del conjunto de entrenamiento\n",
    ")\n",
    "\n",
    "# Convertir los pesos a un tensor compatible con PyTorch\n",
    "class_weights = torch.tensor(class_weights, dtype=torch.float).to(\"cuda\")\n",
    "\n",
    "# Cargar datos de prueba (test_features.csv y test_labels.npy)\n",
    "test_features = pd.read_csv('Datos/test_features.csv')  # Características\n",
    "test_labels = np.load('Datos/test_labels.npy')          # Labels\n",
    "\n",
    "# Preprocesar datos de prueba\n",
    "test_features['Text'] = test_features['Title'].astype(str) + \" \" + test_features['Opinion'].astype(str)  # Juntar titulos y opiniones\n",
    "test_features = test_features.dropna()  # Eliminar filas con valores nulos\n",
    "X_test = test_features['Text']\n",
    "y_test = test_labels\n",
    "\n",
    "# Imprimir tamaños de los conjuntos de datos\n",
    "print(f\"Datos de entrenamiento: {len(X_train)}\")\n",
    "print(f\"Datos de validación: {len(X_val)}\")\n",
    "print(f\"Datos de prueba: {len(X_test)}\")\n",
    "# Imprimir pesos de las clases\n",
    "print(\"\\nPesos de las clases:\", class_weights) \n"
   ]
  },
  {
   "cell_type": "markdown",
   "metadata": {},
   "source": [
    "**2. Carga del modelo (ELECTRA) y tokenización**"
   ]
  },
  {
   "cell_type": "code",
   "execution_count": 3,
   "metadata": {},
   "outputs": [],
   "source": [
    "#pip install transformers"
   ]
  },
  {
   "cell_type": "markdown",
   "metadata": {},
   "source": [
    "Usaremos PyTorch, así que corroboaramos que todo esté en orden"
   ]
  },
  {
   "cell_type": "code",
   "execution_count": 4,
   "metadata": {},
   "outputs": [
    {
     "name": "stdout",
     "output_type": "stream",
     "text": [
      "Versión de PyTorch: 2.5.1+cu118\n",
      "CUDA disponible: True\n",
      "Nombre de GPU: NVIDIA GeForce RTX 3050 Ti Laptop GPU\n"
     ]
    }
   ],
   "source": [
    "import torch\n",
    "\n",
    "print(\"Versión de PyTorch:\", torch.__version__)\n",
    "print(\"CUDA disponible:\", torch.cuda.is_available())\n",
    "if torch.cuda.is_available():\n",
    "    print(\"Nombre de GPU:\", torch.cuda.get_device_name(0))"
   ]
  },
  {
   "cell_type": "code",
   "execution_count": 5,
   "metadata": {},
   "outputs": [
    {
     "name": "stdout",
     "output_type": "stream",
     "text": [
      "Tensor en GPU: tensor([1., 2., 3.], device='cuda:0')\n",
      "Resultado de operación en GPU: tensor([1., 4., 9.], device='cuda:0')\n"
     ]
    }
   ],
   "source": [
    "# Crear un tensor y moverlo a la GPU\n",
    "x = torch.tensor([1.0, 2.0, 3.0], device='cuda')\n",
    "print(\"Tensor en GPU:\", x)\n",
    "\n",
    "# Realizar una operación en la GPU\n",
    "y = x ** 2\n",
    "print(\"Resultado de operación en GPU:\", y)"
   ]
  },
  {
   "cell_type": "code",
   "execution_count": 53,
   "metadata": {},
   "outputs": [
    {
     "name": "stderr",
     "output_type": "stream",
     "text": [
      "Some weights of ElectraForSequenceClassification were not initialized from the model checkpoint at google/electra-small-discriminator and are newly initialized: ['classifier.dense.bias', 'classifier.dense.weight', 'classifier.out_proj.bias', 'classifier.out_proj.weight']\n",
      "You should probably TRAIN this model on a down-stream task to be able to use it for predictions and inference.\n"
     ]
    },
    {
     "name": "stdout",
     "output_type": "stream",
     "text": [
      "\n",
      "Tamaño del conjunto de entrenamiento tokenizado: torch.Size([3751, 128])\n",
      "Tamaño del conjunto de validación tokenizado: torch.Size([663, 128])\n",
      "Tamaño del conjunto de prueba tokenizado: torch.Size([780, 128])\n"
     ]
    }
   ],
   "source": [
    "from transformers import AutoTokenizer, AutoModelForSequenceClassification\n",
    "\n",
    "# Cargar el tokenizador y el modelo ELECTRA\n",
    "MODEL_NAME = \"google/electra-small-discriminator\"  # Modelo ELECTRA pre-entrenado en inglés\n",
    "\n",
    "tokenizer = AutoTokenizer.from_pretrained(MODEL_NAME)\n",
    "model = AutoModelForSequenceClassification.from_pretrained(MODEL_NAME, num_labels=2)  # Clasificación binaria\n",
    "\n",
    "# Función de tokenización para los datos\n",
    "def tokenize_data(texts, tokenizer, max_length=128):\n",
    "    \"\"\"\n",
    "    Tokeniza un conjunto de textos.\n",
    "    :param texts: Lista o Series de textos.\n",
    "    :param tokenizer: Tokenizador preentrenado.\n",
    "    :param max_length: Longitud máxima de los tokens.\n",
    "    :return: Diccionario con los tensores tokenizados.\n",
    "    \"\"\"\n",
    "    return tokenizer(\n",
    "        list(texts),\n",
    "        padding=True,\n",
    "        truncation=True,\n",
    "        max_length=max_length,\n",
    "        return_tensors=\"pt\"\n",
    "    )\n",
    "\n",
    "# Tokenización de los conjuntos de datos\n",
    "train_encodings = tokenize_data(X_train, tokenizer)\n",
    "val_encodings = tokenize_data(X_val, tokenizer)\n",
    "test_encodings = tokenize_data(X_test, tokenizer)\n",
    "\n",
    "# Verificar dimensiones de los tensores tokenizados\n",
    "print(f\"\\nTamaño del conjunto de entrenamiento tokenizado: {train_encodings['input_ids'].shape}\")\n",
    "print(f\"Tamaño del conjunto de validación tokenizado: {val_encodings['input_ids'].shape}\")\n",
    "print(f\"Tamaño del conjunto de prueba tokenizado: {test_encodings['input_ids'].shape}\")\n"
   ]
  },
  {
   "cell_type": "markdown",
   "metadata": {},
   "source": [
    "**3. Configuración y entrenamiento del modelo**"
   ]
  },
  {
   "cell_type": "code",
   "execution_count": 7,
   "metadata": {},
   "outputs": [],
   "source": [
    "#pip install datasets"
   ]
  },
  {
   "cell_type": "code",
   "execution_count": 8,
   "metadata": {},
   "outputs": [],
   "source": [
    "#pip install transformers[torch]"
   ]
  },
  {
   "cell_type": "code",
   "execution_count": 9,
   "metadata": {},
   "outputs": [
    {
     "name": "stderr",
     "output_type": "stream",
     "text": [
      "c:\\Users\\jcbar\\AppData\\Local\\Programs\\Python\\Python312\\Lib\\site-packages\\transformers\\training_args.py:1568: FutureWarning: `evaluation_strategy` is deprecated and will be removed in version 4.46 of 🤗 Transformers. Use `eval_strategy` instead\n",
      "  warnings.warn(\n",
      "C:\\Users\\jcbar\\AppData\\Local\\Temp\\ipykernel_19704\\2329405604.py:61: FutureWarning: `tokenizer` is deprecated and will be removed in version 5.0.0 for `CustomTrainer.__init__`. Use `processing_class` instead.\n",
      "  trainer = CustomTrainer(\n"
     ]
    },
    {
     "data": {
      "application/vnd.jupyter.widget-view+json": {
       "model_id": "35070e355b984b00ab7969f7026f7e87",
       "version_major": 2,
       "version_minor": 0
      },
      "text/plain": [
       "  0%|          | 0/585 [00:00<?, ?it/s]"
      ]
     },
     "metadata": {},
     "output_type": "display_data"
    },
    {
     "name": "stdout",
     "output_type": "stream",
     "text": [
      "{'loss': 0.697, 'grad_norm': 1.0945395231246948, 'learning_rate': 9.82905982905983e-06, 'epoch': 0.09}\n",
      "{'loss': 0.6933, 'grad_norm': 1.1029469966888428, 'learning_rate': 9.658119658119659e-06, 'epoch': 0.17}\n",
      "{'loss': 0.6915, 'grad_norm': 1.9477636814117432, 'learning_rate': 9.487179487179487e-06, 'epoch': 0.26}\n",
      "{'loss': 0.6918, 'grad_norm': 2.510732412338257, 'learning_rate': 9.316239316239318e-06, 'epoch': 0.34}\n",
      "{'loss': 0.6887, 'grad_norm': 1.636818289756775, 'learning_rate': 9.145299145299145e-06, 'epoch': 0.43}\n",
      "{'loss': 0.6906, 'grad_norm': 2.5530776977539062, 'learning_rate': 8.974358974358976e-06, 'epoch': 0.51}\n",
      "{'loss': 0.6826, 'grad_norm': 1.6540602445602417, 'learning_rate': 8.803418803418804e-06, 'epoch': 0.6}\n",
      "{'loss': 0.6821, 'grad_norm': 1.514829158782959, 'learning_rate': 8.632478632478633e-06, 'epoch': 0.68}\n",
      "{'loss': 0.6852, 'grad_norm': 3.0958611965179443, 'learning_rate': 8.461538461538462e-06, 'epoch': 0.77}\n",
      "{'loss': 0.6884, 'grad_norm': 2.0136570930480957, 'learning_rate': 8.290598290598293e-06, 'epoch': 0.85}\n",
      "{'loss': 0.6825, 'grad_norm': 1.6348682641983032, 'learning_rate': 8.11965811965812e-06, 'epoch': 0.94}\n"
     ]
    },
    {
     "data": {
      "application/vnd.jupyter.widget-view+json": {
       "model_id": "7c6f489e0da44467b47e665ae39853ec",
       "version_major": 2,
       "version_minor": 0
      },
      "text/plain": [
       "  0%|          | 0/42 [00:00<?, ?it/s]"
      ]
     },
     "metadata": {},
     "output_type": "display_data"
    },
    {
     "name": "stdout",
     "output_type": "stream",
     "text": [
      "{'eval_loss': 0.6718094348907471, 'eval_accuracy': 0.7254901960784313, 'eval_f1': 0.7398684557998283, 'eval_runtime': 0.9251, 'eval_samples_per_second': 716.659, 'eval_steps_per_second': 45.399, 'epoch': 1.0}\n",
      "{'loss': 0.6676, 'grad_norm': 1.8398867845535278, 'learning_rate': 7.948717948717949e-06, 'epoch': 1.02}\n",
      "{'loss': 0.6739, 'grad_norm': 3.09171199798584, 'learning_rate': 7.77777777777778e-06, 'epoch': 1.11}\n",
      "{'loss': 0.6696, 'grad_norm': 2.592952013015747, 'learning_rate': 7.606837606837607e-06, 'epoch': 1.19}\n",
      "{'loss': 0.6617, 'grad_norm': 3.2406716346740723, 'learning_rate': 7.435897435897437e-06, 'epoch': 1.28}\n",
      "{'loss': 0.664, 'grad_norm': 2.220327377319336, 'learning_rate': 7.264957264957266e-06, 'epoch': 1.36}\n",
      "{'loss': 0.666, 'grad_norm': 5.979058742523193, 'learning_rate': 7.0940170940170945e-06, 'epoch': 1.45}\n",
      "{'loss': 0.6572, 'grad_norm': 3.1450088024139404, 'learning_rate': 6.923076923076923e-06, 'epoch': 1.53}\n",
      "{'loss': 0.642, 'grad_norm': 6.520618438720703, 'learning_rate': 6.752136752136753e-06, 'epoch': 1.62}\n",
      "{'loss': 0.6693, 'grad_norm': 7.158402919769287, 'learning_rate': 6.581196581196582e-06, 'epoch': 1.7}\n",
      "{'loss': 0.6503, 'grad_norm': 3.3019049167633057, 'learning_rate': 6.410256410256412e-06, 'epoch': 1.79}\n",
      "{'loss': 0.6611, 'grad_norm': 5.161157131195068, 'learning_rate': 6.23931623931624e-06, 'epoch': 1.87}\n",
      "{'loss': 0.6492, 'grad_norm': 3.7830772399902344, 'learning_rate': 6.0683760683760684e-06, 'epoch': 1.96}\n"
     ]
    },
    {
     "data": {
      "application/vnd.jupyter.widget-view+json": {
       "model_id": "b047bc728ae9435298907fee10f77825",
       "version_major": 2,
       "version_minor": 0
      },
      "text/plain": [
       "  0%|          | 0/42 [00:00<?, ?it/s]"
      ]
     },
     "metadata": {},
     "output_type": "display_data"
    },
    {
     "name": "stdout",
     "output_type": "stream",
     "text": [
      "{'eval_loss': 0.6355593800544739, 'eval_accuracy': 0.6817496229260935, 'eval_f1': 0.7182073254837084, 'eval_runtime': 0.9066, 'eval_samples_per_second': 731.295, 'eval_steps_per_second': 46.326, 'epoch': 2.0}\n",
      "{'loss': 0.6431, 'grad_norm': 3.6699633598327637, 'learning_rate': 5.897435897435898e-06, 'epoch': 2.04}\n",
      "{'loss': 0.6396, 'grad_norm': 9.442760467529297, 'learning_rate': 5.726495726495727e-06, 'epoch': 2.13}\n",
      "{'loss': 0.6251, 'grad_norm': 3.6403985023498535, 'learning_rate': 5.555555555555557e-06, 'epoch': 2.21}\n",
      "{'loss': 0.6235, 'grad_norm': 5.93582010269165, 'learning_rate': 5.384615384615385e-06, 'epoch': 2.3}\n",
      "{'loss': 0.6246, 'grad_norm': 5.894554138183594, 'learning_rate': 5.213675213675214e-06, 'epoch': 2.38}\n",
      "{'loss': 0.6202, 'grad_norm': 3.343411445617676, 'learning_rate': 5.042735042735043e-06, 'epoch': 2.47}\n",
      "{'loss': 0.6192, 'grad_norm': 8.596417427062988, 'learning_rate': 4.871794871794872e-06, 'epoch': 2.55}\n",
      "{'loss': 0.6381, 'grad_norm': 4.7870917320251465, 'learning_rate': 4.700854700854701e-06, 'epoch': 2.64}\n",
      "{'loss': 0.6238, 'grad_norm': 3.392822027206421, 'learning_rate': 4.5299145299145306e-06, 'epoch': 2.72}\n",
      "{'loss': 0.6288, 'grad_norm': 11.795267105102539, 'learning_rate': 4.358974358974359e-06, 'epoch': 2.81}\n",
      "{'loss': 0.6053, 'grad_norm': 11.027207374572754, 'learning_rate': 4.188034188034188e-06, 'epoch': 2.89}\n",
      "{'loss': 0.6, 'grad_norm': 2.7505202293395996, 'learning_rate': 4.017094017094018e-06, 'epoch': 2.98}\n"
     ]
    },
    {
     "data": {
      "application/vnd.jupyter.widget-view+json": {
       "model_id": "5b4b6b965fd94e8f928dd799b18673a4",
       "version_major": 2,
       "version_minor": 0
      },
      "text/plain": [
       "  0%|          | 0/42 [00:00<?, ?it/s]"
      ]
     },
     "metadata": {},
     "output_type": "display_data"
    },
    {
     "name": "stdout",
     "output_type": "stream",
     "text": [
      "{'eval_loss': 0.6052986979484558, 'eval_accuracy': 0.7692307692307693, 'eval_f1': 0.786821569165517, 'eval_runtime': 0.9129, 'eval_samples_per_second': 726.292, 'eval_steps_per_second': 46.009, 'epoch': 3.0}\n",
      "{'loss': 0.6261, 'grad_norm': 6.273568630218506, 'learning_rate': 3.846153846153847e-06, 'epoch': 3.06}\n",
      "{'loss': 0.5946, 'grad_norm': 3.1554341316223145, 'learning_rate': 3.6752136752136756e-06, 'epoch': 3.15}\n",
      "{'loss': 0.6065, 'grad_norm': 4.4549078941345215, 'learning_rate': 3.5042735042735045e-06, 'epoch': 3.23}\n",
      "{'loss': 0.6001, 'grad_norm': 5.438844680786133, 'learning_rate': 3.3333333333333333e-06, 'epoch': 3.32}\n",
      "{'loss': 0.5801, 'grad_norm': 4.572556018829346, 'learning_rate': 3.1623931623931626e-06, 'epoch': 3.4}\n",
      "{'loss': 0.5935, 'grad_norm': 10.837342262268066, 'learning_rate': 2.9914529914529914e-06, 'epoch': 3.49}\n",
      "{'loss': 0.5967, 'grad_norm': 5.04506778717041, 'learning_rate': 2.8205128205128207e-06, 'epoch': 3.57}\n",
      "{'loss': 0.6292, 'grad_norm': 12.695109367370605, 'learning_rate': 2.64957264957265e-06, 'epoch': 3.66}\n",
      "{'loss': 0.6115, 'grad_norm': 5.276984691619873, 'learning_rate': 2.478632478632479e-06, 'epoch': 3.74}\n",
      "{'loss': 0.6088, 'grad_norm': 13.600912094116211, 'learning_rate': 2.307692307692308e-06, 'epoch': 3.83}\n",
      "{'loss': 0.6083, 'grad_norm': 14.676321029663086, 'learning_rate': 2.136752136752137e-06, 'epoch': 3.91}\n",
      "{'loss': 0.5796, 'grad_norm': 9.916287422180176, 'learning_rate': 1.9658119658119658e-06, 'epoch': 4.0}\n"
     ]
    },
    {
     "data": {
      "application/vnd.jupyter.widget-view+json": {
       "model_id": "b925c6b2ce1b4f4ebc032f9f52ceaf3f",
       "version_major": 2,
       "version_minor": 0
      },
      "text/plain": [
       "  0%|          | 0/42 [00:00<?, ?it/s]"
      ]
     },
     "metadata": {},
     "output_type": "display_data"
    },
    {
     "name": "stdout",
     "output_type": "stream",
     "text": [
      "{'eval_loss': 0.59459388256073, 'eval_accuracy': 0.6711915535444947, 'eval_f1': 0.7104681972987504, 'eval_runtime': 0.8686, 'eval_samples_per_second': 763.287, 'eval_steps_per_second': 48.353, 'epoch': 4.0}\n",
      "{'loss': 0.5995, 'grad_norm': 12.873221397399902, 'learning_rate': 1.794871794871795e-06, 'epoch': 4.09}\n",
      "{'loss': 0.5753, 'grad_norm': 14.315138816833496, 'learning_rate': 1.623931623931624e-06, 'epoch': 4.17}\n",
      "{'loss': 0.5935, 'grad_norm': 3.968071222305298, 'learning_rate': 1.4529914529914531e-06, 'epoch': 4.26}\n",
      "{'loss': 0.5807, 'grad_norm': 5.796695232391357, 'learning_rate': 1.282051282051282e-06, 'epoch': 4.34}\n",
      "{'loss': 0.5782, 'grad_norm': 4.635676860809326, 'learning_rate': 1.111111111111111e-06, 'epoch': 4.43}\n",
      "{'loss': 0.5677, 'grad_norm': 6.5559163093566895, 'learning_rate': 9.401709401709402e-07, 'epoch': 4.51}\n",
      "{'loss': 0.6187, 'grad_norm': 10.054391860961914, 'learning_rate': 7.692307692307694e-07, 'epoch': 4.6}\n",
      "{'loss': 0.5778, 'grad_norm': 7.382168292999268, 'learning_rate': 5.982905982905984e-07, 'epoch': 4.68}\n",
      "{'loss': 0.5933, 'grad_norm': 8.269768714904785, 'learning_rate': 4.273504273504274e-07, 'epoch': 4.77}\n",
      "{'loss': 0.6023, 'grad_norm': 14.491507530212402, 'learning_rate': 2.564102564102564e-07, 'epoch': 4.85}\n",
      "{'loss': 0.5913, 'grad_norm': 6.340310096740723, 'learning_rate': 8.547008547008549e-08, 'epoch': 4.94}\n"
     ]
    },
    {
     "data": {
      "application/vnd.jupyter.widget-view+json": {
       "model_id": "22d453659d544a04b7319d59c044fb4e",
       "version_major": 2,
       "version_minor": 0
      },
      "text/plain": [
       "  0%|          | 0/42 [00:00<?, ?it/s]"
      ]
     },
     "metadata": {},
     "output_type": "display_data"
    },
    {
     "name": "stdout",
     "output_type": "stream",
     "text": [
      "{'eval_loss': 0.5851173400878906, 'eval_accuracy': 0.6998491704374057, 'eval_f1': 0.7343758588991689, 'eval_runtime': 0.9028, 'eval_samples_per_second': 734.345, 'eval_steps_per_second': 46.52, 'epoch': 4.98}\n",
      "{'train_runtime': 79.001, 'train_samples_per_second': 237.402, 'train_steps_per_second': 7.405, 'train_loss': 0.6325558605357113, 'epoch': 4.98}\n"
     ]
    },
    {
     "data": {
      "application/vnd.jupyter.widget-view+json": {
       "model_id": "e06673d0ba134609a69fcce1309398b8",
       "version_major": 2,
       "version_minor": 0
      },
      "text/plain": [
       "  0%|          | 0/42 [00:00<?, ?it/s]"
      ]
     },
     "metadata": {},
     "output_type": "display_data"
    },
    {
     "name": "stdout",
     "output_type": "stream",
     "text": [
      "Resultados de evaluación: {'eval_loss': 0.6052986979484558, 'eval_accuracy': 0.7692307692307693, 'eval_f1': 0.786821569165517, 'eval_runtime': 0.9482, 'eval_samples_per_second': 699.185, 'eval_steps_per_second': 44.292, 'epoch': 4.9787234042553195}\n"
     ]
    }
   ],
   "source": [
    "from transformers import TrainingArguments, Trainer\n",
    "import torch.nn as nn\n",
    "from sklearn.metrics import accuracy_score, f1_score\n",
    "from datasets import Dataset\n",
    "\n",
    "# Crear una función de pérdida personalizada con los pesos de las clases\n",
    "loss_fn = nn.CrossEntropyLoss(weight=class_weights)\n",
    "\n",
    "# Definir el Trainer personalizado para incluir la función de pérdida\n",
    "class CustomTrainer(Trainer):\n",
    "    def compute_loss(self, model, inputs, return_outputs=False, **kwargs):\n",
    "        \"\"\"\n",
    "        Sobrescribe la función de pérdida del Trainer para incluir Class Weights.\n",
    "        \"\"\"\n",
    "        labels = inputs.pop(\"labels\")  # Extraer etiquetas reales\n",
    "        outputs = model(**inputs)      # Forward pass\n",
    "        logits = outputs.logits        # Salidas del modelo\n",
    "        loss = loss_fn(logits, labels) # Calcular pérdida con pesos\n",
    "        return (loss, outputs) if return_outputs else loss\n",
    "\n",
    "# Convertir los datos tokenizados y etiquetas en Datasets compatibles con Hugging Face\n",
    "train_dataset = Dataset.from_dict({\n",
    "    \"input_ids\": train_encodings[\"input_ids\"],\n",
    "    \"attention_mask\": train_encodings[\"attention_mask\"],\n",
    "    \"labels\": torch.tensor(y_train.values)\n",
    "})\n",
    "val_dataset = Dataset.from_dict({\n",
    "    \"input_ids\": val_encodings[\"input_ids\"],\n",
    "    \"attention_mask\": val_encodings[\"attention_mask\"],\n",
    "    \"labels\": torch.tensor(y_val.values)\n",
    "})\n",
    "\n",
    "# Configuración del entrenamiento\n",
    "training_args = TrainingArguments(\n",
    "    output_dir=\"./results\",                # Directorio para guardar los resultados\n",
    "    evaluation_strategy=\"epoch\",          # Evaluar al final de cada época\n",
    "    save_strategy=\"epoch\",                # Guardar modelo al final de cada época\n",
    "    learning_rate=1e-5,                   # Tasa de aprendizaje ajustada\n",
    "    per_device_train_batch_size=16,       # Tamaño del batch de entrenamiento\n",
    "    per_device_eval_batch_size=16,        # Tamaño del batch de evaluación\n",
    "    num_train_epochs=5,                   # Número de épocas\n",
    "    weight_decay=0.01,                    # Decaimiento de peso (regularización)\n",
    "    load_best_model_at_end=True,          # Cargar el mejor modelo al final\n",
    "    metric_for_best_model=\"accuracy\",     # Métrica para seleccionar el mejor modelo\n",
    "    logging_dir=\"./logs\",                 # Directorio para logs\n",
    "    logging_steps=10,                     # Frecuencia de logs\n",
    "    gradient_accumulation_steps=2,        # Acumulación de gradiente\n",
    "    fp16=True,                            # Entrenamiento en precisión mixta\n",
    "    report_to=\"none\",                     # Deshabilitar reporte a servicios externos\n",
    ")\n",
    "\n",
    "# Función de métricas personalizada\n",
    "def compute_metrics(pred):\n",
    "    labels = pred.label_ids\n",
    "    preds = pred.predictions.argmax(-1)\n",
    "    acc = accuracy_score(labels, preds)\n",
    "    f1 = f1_score(labels, preds, average=\"weighted\")\n",
    "    return {\"accuracy\": acc, \"f1\": f1}\n",
    "\n",
    "# Configurar el Trainer\n",
    "trainer = CustomTrainer(\n",
    "    model=model,                         # Modelo a entrenar\n",
    "    args=training_args,                  # Argumentos de entrenamiento\n",
    "    train_dataset=train_dataset,         # Conjunto de entrenamiento\n",
    "    eval_dataset=val_dataset,            # Conjunto de validación\n",
    "    tokenizer=tokenizer,                 # Tokenizador\n",
    "    compute_metrics=compute_metrics,     # Función de métricas personalizada\n",
    ")\n",
    "\n",
    "# Entrenamiento\n",
    "trainer.train()\n",
    "\n",
    "# Evaluación final en el conjunto de validación\n",
    "eval_results = trainer.evaluate()\n",
    "print(\"Resultados de evaluación:\", eval_results)\n"
   ]
  },
  {
   "cell_type": "markdown",
   "metadata": {},
   "source": [
    "**4. Evaluación del Modelo (validación)**"
   ]
  },
  {
   "cell_type": "code",
   "execution_count": 10,
   "metadata": {},
   "outputs": [
    {
     "data": {
      "application/vnd.jupyter.widget-view+json": {
       "model_id": "6d158fbae37b413fbef53a19a911a705",
       "version_major": 2,
       "version_minor": 0
      },
      "text/plain": [
       "  0%|          | 0/42 [00:00<?, ?it/s]"
      ]
     },
     "metadata": {},
     "output_type": "display_data"
    },
    {
     "name": "stdout",
     "output_type": "stream",
     "text": [
      "Reporte de clasificación:\n",
      "                    precision    recall  f1-score   support\n",
      "\n",
      "Clase 0 (Negativo)       0.53      0.40      0.45       116\n",
      "Clase 1 (Positivo)       0.88      0.93      0.90       547\n",
      "\n",
      "          accuracy                           0.83       663\n",
      "         macro avg       0.70      0.66      0.68       663\n",
      "      weighted avg       0.82      0.83      0.82       663\n",
      "\n"
     ]
    },
    {
     "data": {
      "image/png": "[encoded data removed]",
      "text/plain": [
       "<Figure size 800x600 with 2 Axes>"
      ]
     },
     "metadata": {},
     "output_type": "display_data"
    }
   ],
   "source": [
    "import numpy as np\n",
    "from sklearn.metrics import classification_report, confusion_matrix\n",
    "import matplotlib.pyplot as plt\n",
    "import seaborn as sns\n",
    "\n",
    "# Realizar predicciones en el conjunto de validación\n",
    "predictions = trainer.predict(val_dataset)\n",
    "\n",
    "# Umbral personalizado\n",
    "threshold = 0.39 # Ajusta este valor según el balance deseado entre precisión y recall\n",
    "\n",
    "# Obtener las probabilidades de la clase positiva\n",
    "probs = torch.softmax(torch.tensor(predictions.predictions), dim=-1)[:, 1].numpy()\n",
    "\n",
    "# Clasificar usando el umbral personalizado\n",
    "preds = (probs > threshold).astype(int)\n",
    "\n",
    "# Generar reporte de clasificación\n",
    "print(\"Reporte de clasificación:\")\n",
    "print(classification_report(y_val, preds, target_names=[\"Clase 0 (Negativo)\", \"Clase 1 (Positivo)\"]))\n",
    "\n",
    "# Matriz de confusión\n",
    "conf_matrix = confusion_matrix(y_val, preds)\n",
    "plt.figure(figsize=(8, 6))\n",
    "sns.heatmap(conf_matrix, annot=True, fmt=\"d\", cmap=\"Blues\", xticklabels=[\"Negativo\", \"Positivo\"], yticklabels=[\"Negativo\", \"Positivo\"])\n",
    "plt.xlabel(\"Predicción\")\n",
    "plt.ylabel(\"Etiqueta verdadera\")\n",
    "plt.title(\"Matriz de confusión\")\n",
    "plt.show()\n"
   ]
  },
  {
   "cell_type": "code",
   "execution_count": 11,
   "metadata": {},
   "outputs": [
    {
     "name": "stdout",
     "output_type": "stream",
     "text": [
      "\n",
      "Total de ejemplos mal clasificados: 111\n",
      "\n",
      "Ejemplos de predicciones incorrectas:\n",
      "\n",
      "Texto: \"Vista espectacular\" \"La vista de la ciudad y los alrededores es lo mejor de todo, si te gusta subir escaleras puedes optar por recorrerlas de subida y de bajada, si no existe el funicular para subir. Es parte indispensable al ir a Guanajuato.\"\n",
      "Etiqueta verdadera: 0, Predicción: 1\n",
      "\n",
      "Texto: \"Reconocer lo conocido\" \"Hace como 20 años que no volví a y ahora me parece un museo más que un viejo galerón.  La cantidad de luz y la organización del lugar podría darle un poco de miedo a niños pequeños si no se les contó antes lo que iban a ver.\"\n",
      "Etiqueta verdadera: 1, Predicción: 0\n",
      "\n",
      "Texto: \"Gran inmueble que debe visitarse\" \"Es un lugar que se debe visitar para poder apreciar lo que ha aportado éste inmueble a todas las personas que han pisado sus instalaciones. Normalmente está en remodelación y regularmente presentan diferentes proyectos culturales en sus salas…\"\n",
      "Etiqueta verdadera: 1, Predicción: 0\n"
     ]
    }
   ],
   "source": [
    "# Ejemplos incorrectos\n",
    "incorrect_indices = np.where(preds != y_val.values)[0]\n",
    "print(f\"\\nTotal de ejemplos mal clasificados: {len(incorrect_indices)}\")\n",
    "print(\"\\nEjemplos de predicciones incorrectas:\")\n",
    "for idx in incorrect_indices[:3]:  # Mostrar 5 ejemplos\n",
    "    print(f\"\\nTexto: {X_val.iloc[idx]}\")\n",
    "    print(f\"Etiqueta verdadera: {y_val.iloc[idx]}, Predicción: {preds[idx]}\")"
   ]
  },
  {
   "cell_type": "code",
   "execution_count": 12,
   "metadata": {},
   "outputs": [
    {
     "name": "stdout",
     "output_type": "stream",
     "text": [
      "\n",
      "Total de ejemplos correctamente clasificados: 552\n",
      "\n",
      "Ejemplos de predicciones correctas:\n",
      "\n",
      "Texto: \"Fascinante\" \"Todo en Guanajuato tiene una historia y aquí dice que solo quien llegue a ser profesionista podrá llegar al final de las escaleras y tocar la puerta 😊 es un edificio hermoso que indudablemente te gustará.\"\n",
      "Etiqueta verdadera: 1, Predicción: 1\n",
      "\n",
      "Texto: \"Pintoresco\" \"Una parada oficial si va uno a Guanajuato , mi sugerencia es ir con la Cervantina que hace la noche más agradable , una ciudad encantadora con más historia que la que uno piensa.\"\n",
      "Etiqueta verdadera: 1, Predicción: 1\n",
      "\n",
      "Texto: \"¿Vale la pena la espera?\" \"Lo he visitado en 2 ocasiones distintas. En ambas, el tiempo de espera ha sido exagerado, hasta de hora y media. Una vez dentro, considero que se trata de un atractivo único en todo México, pero del que puedes prescindir sin problema. El recorrido es bastante corto (15 - 20 min) y para colmo las explicaciones por parte de los guías se han simplificado bastante, debido a la gran cantidad de personas que lo visitan. Si te sobra el tiempo en Guanajuato y no lo has visitado, entonces hazlo. De otra manera, aprovecha mejor tu tiempo.\"\n",
      "Etiqueta verdadera: 0, Predicción: 0\n"
     ]
    }
   ],
   "source": [
    "# Ejemplos incorrectos\n",
    "correct_indices = np.where(preds == y_val.values)[0]\n",
    "print(f\"\\nTotal de ejemplos correctamente clasificados: {len(correct_indices)}\")\n",
    "print(\"\\nEjemplos de predicciones correctas:\")\n",
    "for idx in correct_indices[:3]:  # Mostrar 5 ejemplos\n",
    "    print(f\"\\nTexto: {X_val.iloc[idx]}\")\n",
    "    print(f\"Etiqueta verdadera: {y_val.iloc[idx]}, Predicción: {preds[idx]}\")"
   ]
  },
  {
   "cell_type": "markdown",
   "metadata": {},
   "source": [
    "**5. Evaluación del Modelo (test)**"
   ]
  },
  {
   "cell_type": "code",
   "execution_count": null,
   "metadata": {},
   "outputs": [
    {
     "data": {
      "application/vnd.jupyter.widget-view+json": {
       "model_id": "155c843a71804f1384c051c6a4cd0a2d",
       "version_major": 2,
       "version_minor": 0
      },
      "text/plain": [
       "  0%|          | 0/49 [00:00<?, ?it/s]"
      ]
     },
     "metadata": {},
     "output_type": "display_data"
    },
    {
     "name": "stdout",
     "output_type": "stream",
     "text": [
      "Reporte de clasificación en conjunto de prueba:\n",
      "                    precision    recall  f1-score   support\n",
      "\n",
      "Clase 0 (Negativo)       0.51      0.40      0.45       137\n",
      "Clase 1 (Positivo)       0.88      0.92      0.90       643\n",
      "\n",
      "          accuracy                           0.83       780\n",
      "         macro avg       0.69      0.66      0.67       780\n",
      "      weighted avg       0.81      0.83      0.82       780\n",
      "\n"
     ]
    },
    {
     "data": {
      "image/png": "[encoded data removed]",
      "text/plain": [
       "<Figure size 800x600 with 2 Axes>"
      ]
     },
     "metadata": {},
     "output_type": "display_data"
    }
   ],
   "source": [
    "from datasets import Dataset\n",
    "import torch\n",
    "\n",
    "# Convertir el conjunto de prueba en un Dataset compatible\n",
    "test_dataset = Dataset.from_dict({\n",
    "    \"input_ids\": test_encodings[\"input_ids\"],\n",
    "    \"attention_mask\": test_encodings[\"attention_mask\"],\n",
    "    \"labels\": torch.tensor(y_test)  # Agregar etiquetas de prueba\n",
    "})\n",
    "\n",
    "# Realizar predicciones en el conjunto de prueba\n",
    "test_predictions = trainer.predict(test_dataset)\n",
    "\n",
    "# Aplicar el umbral ajustado\n",
    "threshold = 0.39  \n",
    "test_probs = torch.softmax(torch.tensor(test_predictions.predictions), dim=-1)[:, 1].numpy()\n",
    "test_preds = (test_probs > threshold).astype(int)\n",
    "\n",
    "# Generar reporte de clasificación\n",
    "print(\"Reporte de clasificación en conjunto de prueba:\")\n",
    "print(classification_report(y_test, test_preds, target_names=[\"Clase 0 (Negativo)\", \"Clase 1 (Positivo)\"]))\n",
    "\n",
    "# Matriz de confusión\n",
    "test_conf_matrix = confusion_matrix(y_test, test_preds)\n",
    "plt.figure(figsize=(8, 6))\n",
    "sns.heatmap(test_conf_matrix, annot=True, fmt=\"d\", cmap=\"Blues\", xticklabels=[\"Negativo\", \"Positivo\"], yticklabels=[\"Negativo\", \"Positivo\"])\n",
    "plt.xlabel(\"Predicción\")\n",
    "plt.ylabel(\"Etiqueta verdadera\")\n",
    "plt.title(\"Matriz de confusión - Conjunto de prueba\")\n",
    "plt.show()\n"
   ]
  },
  {
   "cell_type": "code",
   "execution_count": 14,
   "metadata": {},
   "outputs": [
    {
     "name": "stdout",
     "output_type": "stream",
     "text": [
      "\n",
      "Total de ejemplos mal clasificados en conjunto de prueba: 135\n",
      "\n",
      "Ejemplos de predicciones incorrectas en el conjunto de prueba:\n",
      "\n",
      "Texto: \"Impresionante\" \"El acabado del altar es sumamente bonito, aunque considero que le falta un poco de mantenimiento, me parecio que estaba algo sucia aunque de noche se ve muy bonita.\"\n",
      "Etiqueta verdadera: 0, Predicción: 1\n",
      "\n",
      "Texto: \"No hay mucho de Diego\" \"El museo está bien pero esperaba que hubiera más arte de Diego Rivera, en realidad son unos cuantos bocetos y cuadros y la mayoría de las salas exhiben arte de otros autores.\"\n",
      "Etiqueta verdadera: 0, Predicción: 1\n",
      "\n",
      "Texto: \"Me desilusionó\" \"La verdad que la ciudad de Guanajuato necesita algo más moderno y bonito, esta muy corriente, y sucio.\"\n",
      "Etiqueta verdadera: 0, Predicción: 1\n"
     ]
    }
   ],
   "source": [
    "# Ejemplos incorrectos en el conjunto de prueba\n",
    "test_incorrect_indices = np.where(test_preds != y_test)[0]\n",
    "print(f\"\\nTotal de ejemplos mal clasificados en conjunto de prueba: {len(test_incorrect_indices)}\")\n",
    "print(\"\\nEjemplos de predicciones incorrectas en el conjunto de prueba:\")\n",
    "for idx in test_incorrect_indices[:3]:  # Mostrar los primeros 5 ejemplos\n",
    "    print(f\"\\nTexto: {X_test.iloc[idx]}\")\n",
    "    print(f\"Etiqueta verdadera: {y_test[idx]}, Predicción: {test_preds[idx]}\")"
   ]
  },
  {
   "cell_type": "code",
   "execution_count": 15,
   "metadata": {},
   "outputs": [
    {
     "name": "stdout",
     "output_type": "stream",
     "text": [
      "\n",
      "Total de ejemplos correctamente clasificados en conjunto de prueba: 645\n",
      "\n",
      "Ejemplos de predicciones correctas en el conjunto de prueba:\n",
      "\n",
      "Texto: \"No coman ahí\" \"Creo que es muy insalubre, hay basura por todos lados y aunque la comida es rica y barata, creo que se pueden visitar otros restaurantes.\"\n",
      "Etiqueta verdadera: 0, Predicción: 0\n",
      "\n",
      "Texto: \"Romántico\" \"Es un callejón común donde todos toman fotos ya que 2 balcones estan muy próximos, pero no tiene nada de especial. Los lugareños aprovechan a contar leyendas sobre los enamorados.\"\n",
      "Etiqueta verdadera: 0, Predicción: 0\n",
      "\n",
      "Texto: Muy descuidado Cierto, es un mercado, pero no por eso hay que dejarlo caer. Es una pieza de valor histórico por el diseño del mismo y el arquitecto que lo imaginó. Está muy maltratado, espero que pronto entre a un programa de conservación que le devuelva el valor que realmente tiene.\n",
      "Etiqueta verdadera: 0, Predicción: 0\n"
     ]
    }
   ],
   "source": [
    "# Ejemplos incorrectos en el conjunto de prueba\n",
    "test_correct_indices = np.where(test_preds == y_test)[0]\n",
    "print(f\"\\nTotal de ejemplos correctamente clasificados en conjunto de prueba: {len(test_correct_indices)}\")\n",
    "print(\"\\nEjemplos de predicciones correctas en el conjunto de prueba:\")\n",
    "for idx in test_correct_indices[:3]:  # Mostrar los primeros 5 ejemplos\n",
    "    print(f\"\\nTexto: {X_test.iloc[idx]}\")\n",
    "    print(f\"Etiqueta verdadera: {y_test[idx]}, Predicción: {test_preds[idx]}\")"
   ]
  },
  {
   "cell_type": "markdown",
   "metadata": {},
   "source": [
    "### 2. Buscar un modelo específico en español."
   ]
  },
  {
   "cell_type": "markdown",
   "metadata": {},
   "source": [
    "Utilizaré el modelo de ELECTRA pre-entrenado en español \"*skimai/electra-small-spanish*\""
   ]
  },
  {
   "cell_type": "markdown",
   "metadata": {},
   "source": [
    "**1. Carga del modelo y tokenización**"
   ]
  },
  {
   "cell_type": "code",
   "execution_count": 54,
   "metadata": {},
   "outputs": [
    {
     "name": "stderr",
     "output_type": "stream",
     "text": [
      "Some weights of ElectraForSequenceClassification were not initialized from the model checkpoint at skimai/electra-small-spanish and are newly initialized: ['classifier.dense.bias', 'classifier.dense.weight', 'classifier.out_proj.bias', 'classifier.out_proj.weight']\n",
      "You should probably TRAIN this model on a down-stream task to be able to use it for predictions and inference.\n"
     ]
    },
    {
     "name": "stdout",
     "output_type": "stream",
     "text": [
      "\n",
      "Tamaño del conjunto de entrenamiento tokenizado: torch.Size([3751, 128])\n",
      "Tamaño del conjunto de validación tokenizado: torch.Size([663, 128])\n",
      "Tamaño del conjunto de prueba tokenizado: torch.Size([780, 128])\n"
     ]
    }
   ],
   "source": [
    "from transformers import AutoTokenizer, AutoModelForSequenceClassification\n",
    "\n",
    "# Cargar el tokenizador y el modelo preentrenado en español\n",
    "MODEL_NAME = \"skimai/electra-small-spanish\"\n",
    "\n",
    "tokenizer = AutoTokenizer.from_pretrained(MODEL_NAME)\n",
    "model = AutoModelForSequenceClassification.from_pretrained(MODEL_NAME, num_labels=2)  # Clasificación binaria\n",
    "\n",
    "# Función de tokenización para los datos\n",
    "def tokenize_data(texts, tokenizer, max_length=128):\n",
    "    \"\"\"\n",
    "    Tokeniza un conjunto de textos.\n",
    "    :param texts: Lista o Series de textos.\n",
    "    :param tokenizer: Tokenizador preentrenado.\n",
    "    :param max_length: Longitud máxima de los tokens.\n",
    "    :return: Diccionario con los tensores tokenizados.\n",
    "    \"\"\"\n",
    "    return tokenizer(list(texts), padding=True, truncation=True, max_length=max_length, return_tensors=\"pt\")\n",
    "\n",
    "# Tokenización de los conjuntos de datos\n",
    "train_encodings = tokenize_data(X_train, tokenizer)\n",
    "val_encodings = tokenize_data(X_val, tokenizer)\n",
    "test_encodings = tokenize_data(X_test, tokenizer)\n",
    "\n",
    "# Verificar dimensiones de los tensores tokenizados\n",
    "print(f\"\\nTamaño del conjunto de entrenamiento tokenizado: {train_encodings['input_ids'].shape}\")\n",
    "print(f\"Tamaño del conjunto de validación tokenizado: {val_encodings['input_ids'].shape}\")\n",
    "print(f\"Tamaño del conjunto de prueba tokenizado: {test_encodings['input_ids'].shape}\")\n"
   ]
  },
  {
   "cell_type": "markdown",
   "metadata": {},
   "source": [
    "**2. Configuración y entrenamiento del modelo**"
   ]
  },
  {
   "cell_type": "code",
   "execution_count": 30,
   "metadata": {},
   "outputs": [
    {
     "name": "stderr",
     "output_type": "stream",
     "text": [
      "C:\\Users\\jcbar\\AppData\\Local\\Temp\\ipykernel_19704\\1419512968.py:60: FutureWarning: `tokenizer` is deprecated and will be removed in version 5.0.0 for `CustomTrainer.__init__`. Use `processing_class` instead.\n",
      "  trainer = CustomTrainer(\n"
     ]
    },
    {
     "data": {
      "application/vnd.jupyter.widget-view+json": {
       "model_id": "82dd90bfc85146628b8d9facd8f0f028",
       "version_major": 2,
       "version_minor": 0
      },
      "text/plain": [
       "  0%|          | 0/585 [00:00<?, ?it/s]"
      ]
     },
     "metadata": {},
     "output_type": "display_data"
    },
    {
     "name": "stdout",
     "output_type": "stream",
     "text": [
      "{'loss': 0.7125, 'grad_norm': 1.1266881227493286, 'learning_rate': 9.82905982905983e-06, 'epoch': 0.09}\n",
      "{'loss': 0.7094, 'grad_norm': 0.8989396691322327, 'learning_rate': 9.658119658119659e-06, 'epoch': 0.17}\n",
      "{'loss': 0.6862, 'grad_norm': 1.0243102312088013, 'learning_rate': 9.487179487179487e-06, 'epoch': 0.26}\n",
      "{'loss': 0.6957, 'grad_norm': 2.4444491863250732, 'learning_rate': 9.316239316239318e-06, 'epoch': 0.34}\n",
      "{'loss': 0.6905, 'grad_norm': 0.7810323238372803, 'learning_rate': 9.145299145299145e-06, 'epoch': 0.43}\n",
      "{'loss': 0.6878, 'grad_norm': 1.0489976406097412, 'learning_rate': 8.974358974358976e-06, 'epoch': 0.51}\n",
      "{'loss': 0.6709, 'grad_norm': 1.053371548652649, 'learning_rate': 8.803418803418804e-06, 'epoch': 0.6}\n",
      "{'loss': 0.691, 'grad_norm': 1.068642497062683, 'learning_rate': 8.632478632478633e-06, 'epoch': 0.68}\n",
      "{'loss': 0.6839, 'grad_norm': 2.5151753425598145, 'learning_rate': 8.461538461538462e-06, 'epoch': 0.77}\n",
      "{'loss': 0.6856, 'grad_norm': 1.432358741760254, 'learning_rate': 8.290598290598293e-06, 'epoch': 0.85}\n",
      "{'loss': 0.6552, 'grad_norm': 0.9527745842933655, 'learning_rate': 8.11965811965812e-06, 'epoch': 0.94}\n"
     ]
    },
    {
     "data": {
      "application/vnd.jupyter.widget-view+json": {
       "model_id": "7dbf1771292e40b1bd6d2d940c741d94",
       "version_major": 2,
       "version_minor": 0
      },
      "text/plain": [
       "  0%|          | 0/42 [00:00<?, ?it/s]"
      ]
     },
     "metadata": {},
     "output_type": "display_data"
    },
    {
     "name": "stdout",
     "output_type": "stream",
     "text": [
      "{'eval_loss': 0.6562442183494568, 'eval_accuracy': 0.8250377073906485, 'eval_f1': 0.7459431833763385, 'eval_runtime': 0.9129, 'eval_samples_per_second': 726.255, 'eval_steps_per_second': 46.007, 'epoch': 1.0}\n",
      "{'loss': 0.6512, 'grad_norm': 1.1500791311264038, 'learning_rate': 7.948717948717949e-06, 'epoch': 1.02}\n",
      "{'loss': 0.6652, 'grad_norm': 1.9958230257034302, 'learning_rate': 7.77777777777778e-06, 'epoch': 1.11}\n",
      "{'loss': 0.6515, 'grad_norm': 2.6328041553497314, 'learning_rate': 7.606837606837607e-06, 'epoch': 1.19}\n",
      "{'loss': 0.6411, 'grad_norm': 1.5808684825897217, 'learning_rate': 7.435897435897437e-06, 'epoch': 1.28}\n",
      "{'loss': 0.643, 'grad_norm': 1.486473798751831, 'learning_rate': 7.264957264957266e-06, 'epoch': 1.36}\n",
      "{'loss': 0.6377, 'grad_norm': 3.8347365856170654, 'learning_rate': 7.0940170940170945e-06, 'epoch': 1.45}\n",
      "{'loss': 0.6239, 'grad_norm': 2.0479421615600586, 'learning_rate': 6.923076923076923e-06, 'epoch': 1.53}\n",
      "{'loss': 0.6079, 'grad_norm': 2.766408920288086, 'learning_rate': 6.752136752136753e-06, 'epoch': 1.62}\n",
      "{'loss': 0.632, 'grad_norm': 3.923672676086426, 'learning_rate': 6.581196581196582e-06, 'epoch': 1.7}\n",
      "{'loss': 0.6286, 'grad_norm': 2.2814676761627197, 'learning_rate': 6.410256410256412e-06, 'epoch': 1.79}\n",
      "{'loss': 0.6187, 'grad_norm': 1.648483157157898, 'learning_rate': 6.23931623931624e-06, 'epoch': 1.87}\n",
      "{'loss': 0.6006, 'grad_norm': 2.361302375793457, 'learning_rate': 6.0683760683760684e-06, 'epoch': 1.96}\n"
     ]
    },
    {
     "data": {
      "application/vnd.jupyter.widget-view+json": {
       "model_id": "132dd8a898094840afbdb8af49506be2",
       "version_major": 2,
       "version_minor": 0
      },
      "text/plain": [
       "  0%|          | 0/42 [00:00<?, ?it/s]"
      ]
     },
     "metadata": {},
     "output_type": "display_data"
    },
    {
     "name": "stdout",
     "output_type": "stream",
     "text": [
      "{'eval_loss': 0.5905080437660217, 'eval_accuracy': 0.8235294117647058, 'eval_f1': 0.8366888075947069, 'eval_runtime': 0.8428, 'eval_samples_per_second': 786.643, 'eval_steps_per_second': 49.833, 'epoch': 2.0}\n",
      "{'loss': 0.6004, 'grad_norm': 2.6159210205078125, 'learning_rate': 5.897435897435898e-06, 'epoch': 2.04}\n",
      "{'loss': 0.6081, 'grad_norm': 1.4784998893737793, 'learning_rate': 5.726495726495727e-06, 'epoch': 2.13}\n",
      "{'loss': 0.5934, 'grad_norm': 2.433769941329956, 'learning_rate': 5.555555555555557e-06, 'epoch': 2.21}\n",
      "{'loss': 0.5874, 'grad_norm': 2.1614537239074707, 'learning_rate': 5.384615384615385e-06, 'epoch': 2.3}\n",
      "{'loss': 0.5761, 'grad_norm': 1.7561728954315186, 'learning_rate': 5.213675213675214e-06, 'epoch': 2.38}\n",
      "{'loss': 0.5716, 'grad_norm': 2.396782636642456, 'learning_rate': 5.042735042735043e-06, 'epoch': 2.47}\n",
      "{'loss': 0.5833, 'grad_norm': 4.042447566986084, 'learning_rate': 4.871794871794872e-06, 'epoch': 2.55}\n",
      "{'loss': 0.5838, 'grad_norm': 2.7408194541931152, 'learning_rate': 4.700854700854701e-06, 'epoch': 2.64}\n",
      "{'loss': 0.5981, 'grad_norm': 1.9082027673721313, 'learning_rate': 4.5299145299145306e-06, 'epoch': 2.72}\n",
      "{'loss': 0.592, 'grad_norm': 7.108823776245117, 'learning_rate': 4.358974358974359e-06, 'epoch': 2.81}\n",
      "{'loss': 0.5734, 'grad_norm': 3.1267621517181396, 'learning_rate': 4.188034188034188e-06, 'epoch': 2.89}\n",
      "{'loss': 0.5721, 'grad_norm': 2.6349966526031494, 'learning_rate': 4.017094017094018e-06, 'epoch': 2.98}\n"
     ]
    },
    {
     "data": {
      "application/vnd.jupyter.widget-view+json": {
       "model_id": "6fdef48374854819a1393f5533eb8500",
       "version_major": 2,
       "version_minor": 0
      },
      "text/plain": [
       "  0%|          | 0/42 [00:00<?, ?it/s]"
      ]
     },
     "metadata": {},
     "output_type": "display_data"
    },
    {
     "name": "stdout",
     "output_type": "stream",
     "text": [
      "{'eval_loss': 0.5566052794456482, 'eval_accuracy': 0.7948717948717948, 'eval_f1': 0.8145778717967673, 'eval_runtime': 0.82, 'eval_samples_per_second': 808.514, 'eval_steps_per_second': 51.218, 'epoch': 3.0}\n",
      "{'loss': 0.5467, 'grad_norm': 3.574913501739502, 'learning_rate': 3.846153846153847e-06, 'epoch': 3.06}\n",
      "{'loss': 0.581, 'grad_norm': 3.0220019817352295, 'learning_rate': 3.6752136752136756e-06, 'epoch': 3.15}\n",
      "{'loss': 0.574, 'grad_norm': 2.1112382411956787, 'learning_rate': 3.5042735042735045e-06, 'epoch': 3.23}\n",
      "{'loss': 0.5541, 'grad_norm': 2.179595947265625, 'learning_rate': 3.3333333333333333e-06, 'epoch': 3.32}\n",
      "{'loss': 0.5341, 'grad_norm': 3.618656635284424, 'learning_rate': 3.1623931623931626e-06, 'epoch': 3.4}\n",
      "{'loss': 0.55, 'grad_norm': 2.1739721298217773, 'learning_rate': 2.9914529914529914e-06, 'epoch': 3.49}\n",
      "{'loss': 0.5838, 'grad_norm': 4.114546298980713, 'learning_rate': 2.8205128205128207e-06, 'epoch': 3.57}\n",
      "{'loss': 0.5802, 'grad_norm': 5.506147384643555, 'learning_rate': 2.64957264957265e-06, 'epoch': 3.66}\n",
      "{'loss': 0.5627, 'grad_norm': 3.4714713096618652, 'learning_rate': 2.478632478632479e-06, 'epoch': 3.74}\n",
      "{'loss': 0.561, 'grad_norm': 3.6248416900634766, 'learning_rate': 2.307692307692308e-06, 'epoch': 3.83}\n",
      "{'loss': 0.565, 'grad_norm': 2.3791017532348633, 'learning_rate': 2.136752136752137e-06, 'epoch': 3.91}\n",
      "{'loss': 0.5466, 'grad_norm': 7.639374256134033, 'learning_rate': 1.9658119658119658e-06, 'epoch': 4.0}\n"
     ]
    },
    {
     "data": {
      "application/vnd.jupyter.widget-view+json": {
       "model_id": "e76959d46d744a9b8d88cf86c3d494ec",
       "version_major": 2,
       "version_minor": 0
      },
      "text/plain": [
       "  0%|          | 0/42 [00:00<?, ?it/s]"
      ]
     },
     "metadata": {},
     "output_type": "display_data"
    },
    {
     "name": "stdout",
     "output_type": "stream",
     "text": [
      "{'eval_loss': 0.5367790460586548, 'eval_accuracy': 0.8416289592760181, 'eval_f1': 0.853169798301235, 'eval_runtime': 0.8839, 'eval_samples_per_second': 750.111, 'eval_steps_per_second': 47.518, 'epoch': 4.0}\n",
      "{'loss': 0.5696, 'grad_norm': 3.706066846847534, 'learning_rate': 1.794871794871795e-06, 'epoch': 4.09}\n",
      "{'loss': 0.5484, 'grad_norm': 2.2439351081848145, 'learning_rate': 1.623931623931624e-06, 'epoch': 4.17}\n",
      "{'loss': 0.5354, 'grad_norm': 2.2898471355438232, 'learning_rate': 1.4529914529914531e-06, 'epoch': 4.26}\n",
      "{'loss': 0.5291, 'grad_norm': 3.1780457496643066, 'learning_rate': 1.282051282051282e-06, 'epoch': 4.34}\n",
      "{'loss': 0.539, 'grad_norm': 9.695121765136719, 'learning_rate': 1.111111111111111e-06, 'epoch': 4.43}\n",
      "{'loss': 0.5625, 'grad_norm': 3.0747275352478027, 'learning_rate': 9.401709401709402e-07, 'epoch': 4.51}\n",
      "{'loss': 0.568, 'grad_norm': 3.93734073638916, 'learning_rate': 7.692307692307694e-07, 'epoch': 4.6}\n",
      "{'loss': 0.5285, 'grad_norm': 2.1740546226501465, 'learning_rate': 5.982905982905984e-07, 'epoch': 4.68}\n",
      "{'loss': 0.5483, 'grad_norm': 3.068514108657837, 'learning_rate': 4.273504273504274e-07, 'epoch': 4.77}\n",
      "{'loss': 0.5853, 'grad_norm': 2.9673588275909424, 'learning_rate': 2.564102564102564e-07, 'epoch': 4.85}\n",
      "{'loss': 0.5551, 'grad_norm': 4.221126079559326, 'learning_rate': 8.547008547008549e-08, 'epoch': 4.94}\n"
     ]
    },
    {
     "data": {
      "application/vnd.jupyter.widget-view+json": {
       "model_id": "5eaea39eb8424cc8a83e84dfc69b5b67",
       "version_major": 2,
       "version_minor": 0
      },
      "text/plain": [
       "  0%|          | 0/42 [00:00<?, ?it/s]"
      ]
     },
     "metadata": {},
     "output_type": "display_data"
    },
    {
     "name": "stdout",
     "output_type": "stream",
     "text": [
      "{'eval_loss': 0.5322157740592957, 'eval_accuracy': 0.8220211161387632, 'eval_f1': 0.8373359373012673, 'eval_runtime': 0.85, 'eval_samples_per_second': 780.021, 'eval_steps_per_second': 49.413, 'epoch': 4.98}\n",
      "{'train_runtime': 79.0562, 'train_samples_per_second': 237.236, 'train_steps_per_second': 7.4, 'train_loss': 0.6030530933640961, 'epoch': 4.98}\n"
     ]
    },
    {
     "data": {
      "application/vnd.jupyter.widget-view+json": {
       "model_id": "19658701b88d4c52b9b43ef7e4b11d36",
       "version_major": 2,
       "version_minor": 0
      },
      "text/plain": [
       "  0%|          | 0/42 [00:00<?, ?it/s]"
      ]
     },
     "metadata": {},
     "output_type": "display_data"
    },
    {
     "name": "stdout",
     "output_type": "stream",
     "text": [
      "Resultados de evaluación: {'eval_loss': 0.5367790460586548, 'eval_accuracy': 0.8416289592760181, 'eval_f1': 0.853169798301235, 'eval_runtime': 0.9435, 'eval_samples_per_second': 702.671, 'eval_steps_per_second': 44.513, 'epoch': 4.9787234042553195}\n"
     ]
    }
   ],
   "source": [
    "from transformers import TrainingArguments, Trainer\n",
    "import torch\n",
    "from sklearn.metrics import accuracy_score, f1_score\n",
    "from datasets import Dataset\n",
    "\n",
    "# Convertir los datos tokenizados y etiquetas en Datasets compatibles con Hugging Face\n",
    "train_dataset = Dataset.from_dict({\n",
    "    \"input_ids\": train_encodings[\"input_ids\"],\n",
    "    \"attention_mask\": train_encodings[\"attention_mask\"],\n",
    "    \"labels\": torch.tensor(y_train.values)\n",
    "})\n",
    "val_dataset = Dataset.from_dict({\n",
    "    \"input_ids\": val_encodings[\"input_ids\"],\n",
    "    \"attention_mask\": val_encodings[\"attention_mask\"],\n",
    "    \"labels\": torch.tensor(y_val.values)\n",
    "})\n",
    "\n",
    "# Definir los pesos de las clases\n",
    "class_weights = torch.tensor([2.85, 0.60], dtype=torch.float).to(\"cuda\")  # Ajusta según el cálculo previo\n",
    "\n",
    "# Configuración del entrenamiento\n",
    "training_args = TrainingArguments(\n",
    "    output_dir=\"./results\",                # Directorio para guardar los resultados\n",
    "    evaluation_strategy=\"epoch\",          # Evaluar al final de cada época\n",
    "    save_strategy=\"epoch\",                # Guardar modelo al final de cada época\n",
    "    learning_rate=1e-5,                   # Tasa de aprendizaje ajustada\n",
    "    per_device_train_batch_size=16,       # Tamaño del batch de entrenamiento\n",
    "    per_device_eval_batch_size=16,        # Tamaño del batch de evaluación\n",
    "    num_train_epochs=5,                   # Número de épocas\n",
    "    weight_decay=0.01,                    # Decaimiento de peso (regularización)\n",
    "    load_best_model_at_end=True,          # Cargar el mejor modelo al final\n",
    "    metric_for_best_model=\"accuracy\",     # Métrica para seleccionar el mejor modelo\n",
    "    logging_dir=\"./logs\",                 # Directorio para logs\n",
    "    logging_steps=10,                     # Frecuencia de logs\n",
    "    gradient_accumulation_steps=2,        # Acumulación de gradiente\n",
    "    report_to=\"none\",                     # Deshabilitar reporte a servicios externos\n",
    ")\n",
    "\n",
    "# Función de métricas personalizada\n",
    "def compute_metrics(pred):\n",
    "    labels = pred.label_ids\n",
    "    preds = pred.predictions.argmax(-1)\n",
    "    acc = accuracy_score(labels, preds)\n",
    "    f1 = f1_score(labels, preds, average=\"weighted\")\n",
    "    return {\"accuracy\": acc, \"f1\": f1}\n",
    "\n",
    "# Crear una clase personalizada para añadir los pesos de clases\n",
    "class CustomTrainer(Trainer):\n",
    "    def compute_loss(self, model, inputs, return_outputs=False, **kwargs):  # Aceptar argumentos adicionales con **kwargs\n",
    "        labels = inputs[\"labels\"]\n",
    "        # Retirar las etiquetas del diccionario de entradas para evitar conflictos\n",
    "        inputs = {k: v for k, v in inputs.items() if k != \"labels\"}\n",
    "        outputs = model(**inputs)\n",
    "        logits = outputs.logits\n",
    "        loss_fct = torch.nn.CrossEntropyLoss(weight=class_weights)  # Añadir pesos de clases\n",
    "        loss = loss_fct(logits, labels)\n",
    "        return (loss, outputs) if return_outputs else loss\n",
    "\n",
    "# Configuración del Trainer\n",
    "trainer = CustomTrainer(\n",
    "    model=model,                         # Modelo a entrenar\n",
    "    args=training_args,                  # Argumentos de entrenamiento\n",
    "    train_dataset=train_dataset,         # Conjunto de entrenamiento\n",
    "    eval_dataset=val_dataset,            # Conjunto de validación\n",
    "    tokenizer=tokenizer,                 # Tokenizador\n",
    "    compute_metrics=compute_metrics,     # Función de métricas personalizada\n",
    ")\n",
    "\n",
    "# Entrenamiento\n",
    "trainer.train()\n",
    "\n",
    "# Evaluación final en el conjunto de validación\n",
    "eval_results = trainer.evaluate()\n",
    "print(\"Resultados de evaluación:\", eval_results)\n"
   ]
  },
  {
   "cell_type": "markdown",
   "metadata": {},
   "source": [
    "**3. Evaluación del modelo (validación)**"
   ]
  },
  {
   "cell_type": "code",
   "execution_count": 51,
   "metadata": {},
   "outputs": [
    {
     "data": {
      "application/vnd.jupyter.widget-view+json": {
       "model_id": "b6f221ea067c424b944d611d648b0021",
       "version_major": 2,
       "version_minor": 0
      },
      "text/plain": [
       "  0%|          | 0/42 [00:00<?, ?it/s]"
      ]
     },
     "metadata": {},
     "output_type": "display_data"
    },
    {
     "name": "stdout",
     "output_type": "stream",
     "text": [
      "Reporte de clasificación en conjunto de validación:\n",
      "                    precision    recall  f1-score   support\n",
      "\n",
      "Clase 0 (Negativo)       0.70      0.59      0.64       116\n",
      "Clase 1 (Positivo)       0.92      0.95      0.93       547\n",
      "\n",
      "          accuracy                           0.89       663\n",
      "         macro avg       0.81      0.77      0.79       663\n",
      "      weighted avg       0.88      0.89      0.88       663\n",
      "\n"
     ]
    },
    {
     "data": {
      "image/png": "[encoded data removed]",
      "text/plain": [
       "<Figure size 640x480 with 2 Axes>"
      ]
     },
     "metadata": {},
     "output_type": "display_data"
    }
   ],
   "source": [
    "import numpy as np\n",
    "from sklearn.metrics import classification_report, confusion_matrix, ConfusionMatrixDisplay\n",
    "import matplotlib.pyplot as plt\n",
    "\n",
    "# Realizar predicciones en el conjunto de validación\n",
    "val_predictions = trainer.predict(val_dataset)\n",
    "\n",
    "# Aplicar el umbral ajustado\n",
    "threshold = 0.40  # Ajusta este valor si es necesario\n",
    "probs = torch.nn.functional.softmax(torch.tensor(val_predictions.predictions), dim=-1)  # Obtener probabilidades\n",
    "pred_labels = (probs[:, 1] > threshold).int()  # Etiquetas predichas con el umbral ajustado\n",
    "\n",
    "# Generar métricas de evaluación\n",
    "print(\"Reporte de clasificación en conjunto de validación:\")\n",
    "print(classification_report(y_val, pred_labels, target_names=[\"Clase 0 (Negativo)\", \"Clase 1 (Positivo)\"]))\n",
    "\n",
    "# Matriz de confusión\n",
    "cm = confusion_matrix(y_val, pred_labels)\n",
    "disp = ConfusionMatrixDisplay(confusion_matrix=cm, display_labels=[\"Negativo\", \"Positivo\"])\n",
    "disp.plot(cmap=\"Blues\")\n",
    "plt.title(\"Matriz de confusión - Conjunto de validación\")\n",
    "plt.show()\n"
   ]
  },
  {
   "cell_type": "markdown",
   "metadata": {},
   "source": [
    "**4. Evaluación del modelo (test)**"
   ]
  },
  {
   "cell_type": "code",
   "execution_count": 52,
   "metadata": {},
   "outputs": [
    {
     "data": {
      "application/vnd.jupyter.widget-view+json": {
       "model_id": "63531a767b60407d89ad63e2fb13dedc",
       "version_major": 2,
       "version_minor": 0
      },
      "text/plain": [
       "  0%|          | 0/49 [00:00<?, ?it/s]"
      ]
     },
     "metadata": {},
     "output_type": "display_data"
    },
    {
     "name": "stdout",
     "output_type": "stream",
     "text": [
      "Reporte de clasificación en conjunto de prueba:\n",
      "                    precision    recall  f1-score   support\n",
      "\n",
      "Clase 0 (Negativo)       0.76      0.56      0.65       137\n",
      "Clase 1 (Positivo)       0.91      0.96      0.94       643\n",
      "\n",
      "          accuracy                           0.89       780\n",
      "         macro avg       0.84      0.76      0.79       780\n",
      "      weighted avg       0.89      0.89      0.89       780\n",
      "\n"
     ]
    },
    {
     "data": {
      "image/png": "[encoded data removed]",
      "text/plain": [
       "<Figure size 800x600 with 2 Axes>"
      ]
     },
     "metadata": {},
     "output_type": "display_data"
    }
   ],
   "source": [
    "from datasets import Dataset\n",
    "import torch\n",
    "\n",
    "# Convertir el conjunto de prueba en un Dataset compatible\n",
    "test_dataset = Dataset.from_dict({\n",
    "    \"input_ids\": test_encodings[\"input_ids\"],\n",
    "    \"attention_mask\": test_encodings[\"attention_mask\"],\n",
    "    \"labels\": torch.tensor(y_test)  # Agregar etiquetas de prueba\n",
    "})\n",
    "\n",
    "# Realizar predicciones en el conjunto de prueba\n",
    "test_predictions = trainer.predict(test_dataset)\n",
    "\n",
    "# Aplicar el umbral ajustado\n",
    "threshold = 0.40  # Ajusta este valor si es necesario\n",
    "test_probs = torch.softmax(torch.tensor(test_predictions.predictions), dim=-1)[:, 1].numpy()\n",
    "test_preds = (test_probs > threshold).astype(int)\n",
    "\n",
    "# Generar reporte de clasificación\n",
    "print(\"Reporte de clasificación en conjunto de prueba:\")\n",
    "print(classification_report(y_test, test_preds, target_names=[\"Clase 0 (Negativo)\", \"Clase 1 (Positivo)\"]))\n",
    "\n",
    "# Matriz de confusión\n",
    "test_conf_matrix = confusion_matrix(y_test, test_preds)\n",
    "plt.figure(figsize=(8, 6))\n",
    "sns.heatmap(test_conf_matrix, annot=True, fmt=\"d\", cmap=\"Blues\", xticklabels=[\"Negativo\", \"Positivo\"], yticklabels=[\"Negativo\", \"Positivo\"])\n",
    "plt.xlabel(\"Predicción\")\n",
    "plt.ylabel(\"Etiqueta verdadera\")\n",
    "plt.title(\"Matriz de confusión - Conjunto de prueba\")\n",
    "plt.show()"
   ]
  }
 ],
 "metadata": {
  "kernelspec": {
   "display_name": "Python 3",
   "language": "python",
   "name": "python3"
  },
  "language_info": {
   "codemirror_mode": {
    "name": "ipython",
    "version": 3
   },
   "file_extension": ".py",
   "mimetype": "text/x-python",
   "name": "python",
   "nbconvert_exporter": "python",
   "pygments_lexer": "ipython3",
   "version": "3.12.3"
  }
 },
 "nbformat": 4,
 "nbformat_minor": 2
}
